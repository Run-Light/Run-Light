{
 "cells": [
  {
   "cell_type": "markdown",
   "id": "273ffbf4",
   "metadata": {},
   "source": [
    "# Polynomial Part"
   ]
  },
  {
   "cell_type": "code",
   "execution_count": 24,
   "id": "7d2637aa",
   "metadata": {},
   "outputs": [],
   "source": [
    "import pandas as pd\n",
    "from sklearn.preprocessing import normalize\n",
    "import seaborn as sns\n",
    "import matplotlib.pyplot as plt\n",
    "import numpy as np\n",
    "from sklearn.metrics import mean_squared_error"
   ]
  },
  {
   "cell_type": "code",
   "execution_count": 2,
   "id": "f96c68fa",
   "metadata": {},
   "outputs": [],
   "source": [
    "data=pd.read_csv(\"data/data_filtrage_5.csv\")"
   ]
  },
  {
   "cell_type": "code",
   "execution_count": 3,
   "id": "085e348f",
   "metadata": {},
   "outputs": [],
   "source": [
    "df=data.copy()"
   ]
  },
  {
   "cell_type": "code",
   "execution_count": 4,
   "id": "f5439022",
   "metadata": {},
   "outputs": [
    {
     "name": "stderr",
     "output_type": "stream",
     "text": [
      "/opt/anaconda3/lib/python3.8/site-packages/seaborn/_decorators.py:36: FutureWarning: Pass the following variables as keyword args: x, y. From version 0.12, the only valid positional argument will be `data`, and passing other arguments without an explicit keyword will result in an error or misinterpretation.\n",
      "  warnings.warn(\n"
     ]
    },
    {
     "data": {
      "text/plain": [
       "<AxesSubplot:ylabel='z_force'>"
      ]
     },
     "execution_count": 4,
     "metadata": {},
     "output_type": "execute_result"
    },
    {
     "data": {
      "image/png": "[encoded data removed]",
      "text/plain": [
       "<Figure size 432x288 with 1 Axes>"
      ]
     },
     "metadata": {
      "needs_background": "light"
     },
     "output_type": "display_data"
    }
   ],
   "source": [
    "sns.lineplot(df.index[:5000],df['z_force'].iloc[:5000])"
   ]
  },
  {
   "cell_type": "code",
   "execution_count": 5,
   "id": "0c080ffc",
   "metadata": {},
   "outputs": [],
   "source": [
    "from sklearn.model_selection import train_test_split"
   ]
  },
  {
   "cell_type": "code",
   "execution_count": 6,
   "id": "c7b80e9f",
   "metadata": {},
   "outputs": [],
   "source": [
    "X=df.drop(['index','nb_seance','nb_passage','x_force','z_force','y_force'],axis=1)\n",
    "y=df['z_force']"
   ]
  },
  {
   "cell_type": "code",
   "execution_count": 7,
   "id": "1e188442",
   "metadata": {},
   "outputs": [],
   "source": [
    "X_train,X_test,y_train,y_test=train_test_split(X,y,random_state=42,test_size=0.2)"
   ]
  },
  {
   "cell_type": "code",
   "execution_count": 8,
   "id": "728e664e",
   "metadata": {},
   "outputs": [],
   "source": [
    "from sklearn.ensemble import RandomForestRegressor"
   ]
  },
  {
   "cell_type": "code",
   "execution_count": 9,
   "id": "413e7947",
   "metadata": {},
   "outputs": [
    {
     "data": {
      "text/plain": [
       "RandomForestRegressor()"
      ]
     },
     "execution_count": 9,
     "metadata": {},
     "output_type": "execute_result"
    }
   ],
   "source": [
    "rfr=RandomForestRegressor()\n",
    "rfr.fit(X_train,y_train)"
   ]
  },
  {
   "cell_type": "code",
   "execution_count": 10,
   "id": "f9252787",
   "metadata": {},
   "outputs": [
    {
     "data": {
      "text/plain": [
       "0.9999428288379051"
      ]
     },
     "execution_count": 10,
     "metadata": {},
     "output_type": "execute_result"
    }
   ],
   "source": [
    "rfr.score(X_test,y_test)"
   ]
  },
  {
   "cell_type": "code",
   "execution_count": 11,
   "id": "c9f7dd34",
   "metadata": {},
   "outputs": [],
   "source": [
    "from sklearn.linear_model import LinearRegression\n",
    "from sklearn.preprocessing import PolynomialFeatures\n",
    "from sklearn.model_selection import cross_val_score"
   ]
  },
  {
   "cell_type": "code",
   "execution_count": 12,
   "id": "c2ce036b",
   "metadata": {
    "scrolled": true
   },
   "outputs": [
    {
     "data": {
      "text/plain": [
       "0.8940960431203697"
      ]
     },
     "execution_count": 12,
     "metadata": {},
     "output_type": "execute_result"
    }
   ],
   "source": [
    "cross_val_score(rfr,X,y,cv=5).mean()"
   ]
  },
  {
   "cell_type": "code",
   "execution_count": 13,
   "id": "215a99ca",
   "metadata": {},
   "outputs": [
    {
     "data": {
      "text/plain": [
       "0.8766799737509716"
      ]
     },
     "execution_count": 13,
     "metadata": {},
     "output_type": "execute_result"
    }
   ],
   "source": [
    "poly = PolynomialFeatures(degree = 3)\n",
    "X_poly = poly.fit_transform(X)\n",
    "X_train,X_test,y_train,y_test=train_test_split(X_poly,y,random_state=42,test_size=0.2)\n",
    "lr = LinearRegression()\n",
    "cross_val_score(lr,X_poly,y,cv=5).mean()"
   ]
  },
  {
   "cell_type": "code",
   "execution_count": 14,
   "id": "87a694bc",
   "metadata": {},
   "outputs": [],
   "source": [
    "\n",
    "X_train_tho=X_poly[:-5000,:]\n",
    "y_train_tho=y[:-5000]\n",
    "X_test_tho=X_poly[495000:,:]\n",
    "y_test_tho=y[495000:]\n",
    "lr_tho = LinearRegression()\n",
    "lr_tho.fit(X_train_tho, y_train_tho)\n",
    "y_pred_tho=lr_tho.predict(X_test_tho)"
   ]
  },
  {
   "cell_type": "code",
   "execution_count": 15,
   "id": "99a8edbe",
   "metadata": {},
   "outputs": [
    {
     "data": {
      "text/plain": [
       "0.9753103236184426"
      ]
     },
     "execution_count": 15,
     "metadata": {},
     "output_type": "execute_result"
    }
   ],
   "source": [
    "lr_tho.score(X_test_tho,y_test_tho)"
   ]
  },
  {
   "cell_type": "code",
   "execution_count": 16,
   "id": "0efe9744",
   "metadata": {
    "scrolled": true
   },
   "outputs": [
    {
     "data": {
      "text/plain": [
       "<matplotlib.collections.PathCollection at 0x7fd3e2f14940>"
      ]
     },
     "execution_count": 16,
     "metadata": {},
     "output_type": "execute_result"
    },
    {
     "data": {
      "image/png": "[encoded data removed]",
      "text/plain": [
       "<Figure size 432x288 with 1 Axes>"
      ]
     },
     "metadata": {
      "needs_background": "light"
     },
     "output_type": "display_data"
    }
   ],
   "source": [
    "x=range(0,5000)\n",
    "plt.scatter(x,y_test_tho,color='b')\n",
    "plt.scatter(x,y_pred_tho,color='r')"
   ]
  },
  {
   "cell_type": "code",
   "execution_count": 17,
   "id": "415bd74d",
   "metadata": {},
   "outputs": [],
   "source": [
    "for i in range(0,495000,5000):\n",
    "    if i==0:\n",
    "        X_train=X_poly[5000:,:]\n",
    "        y_train=y[5000:]\n",
    "        X_test=X_poly[0:5000,:]\n",
    "        y_test=y[0:5000]\n",
    "    elif i==495000:\n",
    "        X_train=X_poly[:495000,:]\n",
    "        y_train=y[:495000]\n",
    "        X_test=X_poly[495000:,:]\n",
    "        y_test=y[495000:]\n",
    "    \n",
    "    "
   ]
  },
  {
   "cell_type": "markdown",
   "id": "8b11b9ea",
   "metadata": {},
   "source": [
    "# SVR Part"
   ]
  },
  {
   "cell_type": "code",
   "execution_count": 18,
   "id": "667b42ee",
   "metadata": {},
   "outputs": [],
   "source": [
    "\n",
    "X_train,X_test,y_train,y_test=train_test_split(X,y,random_state=42,test_size=0.2)\n",
    "\n",
    "X_train_tho=df.iloc[:-5000,3:].drop(['x_force','z_force','y_force'],axis=1)\n",
    "y_train_tho=df['z_force'].iloc[:-5000]\n",
    "X_test_tho=df.iloc[495000:,3:].drop(['x_force','z_force','y_force'],axis=1)\n",
    "y_test_tho=df['z_force'].iloc[495000:]"
   ]
  },
  {
   "cell_type": "code",
   "execution_count": 19,
   "id": "875d029d",
   "metadata": {},
   "outputs": [
    {
     "data": {
      "text/plain": [
       "0.8079469072000031"
      ]
     },
     "execution_count": 19,
     "metadata": {},
     "output_type": "execute_result"
    }
   ],
   "source": [
    "from sklearn.metrics import accuracy_score\n",
    "from sklearn.svm import SVR\n",
    "\n",
    "sv=SVR()\n",
    "sv.fit(X_train[:5000], y_train[:5000])\n",
    "sv.score(X_test[:5000],y_test[:5000])\n"
   ]
  },
  {
   "cell_type": "code",
   "execution_count": 20,
   "id": "478408bd",
   "metadata": {},
   "outputs": [
    {
     "data": {
      "text/plain": [
       "0.8080657287820558"
      ]
     },
     "execution_count": 20,
     "metadata": {},
     "output_type": "execute_result"
    }
   ],
   "source": [
    "sv.fit(X_train_tho[:5000], y_train_tho[:5000])\n",
    "sv.score(X_test_tho[:5000],y_test_tho[:5000])"
   ]
  },
  {
   "cell_type": "code",
   "execution_count": 21,
   "id": "c0ce871a",
   "metadata": {},
   "outputs": [
    {
     "data": {
      "text/plain": [
       "0.9466368193621618"
      ]
     },
     "execution_count": 21,
     "metadata": {},
     "output_type": "execute_result"
    }
   ],
   "source": [
    "sv.fit(X_train_tho[:50000], y_train_tho[:50000])\n",
    "sv.score(X_test_tho[:50000],y_test_tho[:50000])"
   ]
  },
  {
   "cell_type": "code",
   "execution_count": 22,
   "id": "196b5268",
   "metadata": {},
   "outputs": [],
   "source": [
    "y_pred_tho_sv=sv.predict(X_test_tho)"
   ]
  },
  {
   "cell_type": "code",
   "execution_count": 25,
   "id": "0fb38ad9",
   "metadata": {},
   "outputs": [
    {
     "data": {
      "text/plain": [
       "13621.859033446179"
      ]
     },
     "execution_count": 25,
     "metadata": {},
     "output_type": "execute_result"
    },
    {
     "data": {
      "image/png": "[encoded data removed]",
      "text/plain": [
       "<Figure size 432x288 with 1 Axes>"
      ]
     },
     "metadata": {
      "needs_background": "light"
     },
     "output_type": "display_data"
    }
   ],
   "source": [
    "plt.scatter(x,y_pred_tho_sv,color='r')\n",
    "plt.scatter(x,y_test_tho,color='b')\n",
    "plt.scatter(x,y_test_tho-y_pred_tho_sv,color='g')\n",
    "\n",
    "mean_squared_error(y_test_tho, y_pred_tho_sv)\n",
    "a=np.mean((y_test_tho - y_pred_tho_sv)**2)\n",
    "a"
   ]
  },
  {
   "cell_type": "code",
   "execution_count": 26,
   "id": "2dac31f1",
   "metadata": {},
   "outputs": [],
   "source": [
    "sv.fit(X_train[:100000], y_train[:100000])\n",
    "sv.score(X_test[:100000],y_test[:100000])"
   ]
  },
  {
   "cell_type": "code",
   "execution_count": null,
   "id": "ab17b45c",
   "metadata": {},
   "outputs": [
    {
     "data": {
      "text/plain": [
       "13621.859033446179"
      ]
     },
     "metadata": {},
     "output_type": "display_data"
    },
    {
     "data": {
      "image/png": "[encoded data removed]",
      "text/plain": [
       "<Figure size 432x288 with 1 Axes>"
      ]
     },
     "metadata": {},
     "output_type": "display_data"
    }
   ],
   "source": [
    "plt.scatter(x,y_pred_tho_sv,color='r')\n",
    "plt.scatter(x,y_test_tho,color='b')\n",
    "plt.scatter(x,y_test_tho-y_pred_tho_sv,color='g')\n",
    "\n",
    "mean_squared_error(y_test_tho, y_pred_tho_sv)\n",
    "a=np.mean((y_test_tho - y_pred_tho_sv)**2)\n",
    "a"
   ]
  },
  {
   "cell_type": "code",
   "execution_count": null,
   "id": "ffe095f7",
   "metadata": {},
   "outputs": [],
   "source": [
    "# sv.fit(X_train[:200000], y_train[:200000])\n",
    "# sv.score(X_test[:200000],y_test[:200000])"
   ]
  },
  {
   "cell_type": "code",
   "execution_count": null,
   "id": "83d130f9",
   "metadata": {},
   "outputs": [],
   "source": []
  }
 ],
 "metadata": {
  "kernelspec": {
   "display_name": "Python 3.8.5 ('base')",
   "language": "python",
   "name": "python3"
  },
  "language_info": {
   "codemirror_mode": {
    "name": "ipython",
    "version": 3
   },
   "file_extension": ".py",
   "mimetype": "text/x-python",
   "name": "python",
   "nbconvert_exporter": "python",
   "pygments_lexer": "ipython3",
   "version": "3.8.5"
  },
  "vscode": {
   "interpreter": {
    "hash": "40d3a090f54c6569ab1632332b64b2c03c39dcf918b08424e98f38b5ae0af88f"
   }
  }
 },
 "nbformat": 4,
 "nbformat_minor": 5
}
